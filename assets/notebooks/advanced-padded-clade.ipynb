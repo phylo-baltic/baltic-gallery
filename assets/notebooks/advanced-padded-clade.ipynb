{
 "cells": [
  {
   "cell_type": "code",
   "execution_count": 1,
   "metadata": {
    "ExecuteTime": {
     "end_time": "2021-02-27T15:15:57.440713Z",
     "start_time": "2021-02-27T15:15:56.177985Z"
    }
   },
   "outputs": [],
   "source": [
    "import matplotlib as mpl\n",
    "from matplotlib import pyplot as plt\n",
    "from matplotlib import gridspec\n",
    "from matplotlib.patches import Rectangle\n",
    "\n",
    "import requests\n",
    "from io import StringIO as sio\n",
    "\n",
    "import baltic as bt\n",
    "import numpy as np\n",
    "\n",
    "address='https://github.com/sdwfrost/mers-treedater/raw/master/MERS_274_sCoal.combinedTyped.mcc.tree' ## where the tree we'll use lives\n",
    "\n",
    "fetch_tree = requests.get(address) ## fetch tree\n",
    "treeFile=sio(fetch_tree.text) ## stream from repo copy\n",
    "\n",
    "ll=bt.loadNexus(treeFile) ## treeFile here can alternatively be a path to a local file"
   ]
  },
  {
   "cell_type": "code",
   "execution_count": 2,
   "metadata": {
    "ExecuteTime": {
     "end_time": "2021-02-27T15:15:58.187001Z",
     "start_time": "2021-02-27T15:15:57.465516Z"
    },
    "scrolled": false
   },
   "outputs": [
    {
     "data": {
      "image/png": "[encoded data removed]",
      "text/plain": [
       "<Figure size 720x1440 with 1 Axes>"
      ]
     },
     "metadata": {},
     "output_type": "display_data"
    }
   ],
   "source": [
    "fig = plt.figure(figsize=(10, 20),facecolor='w') ## create figure\n",
    "gs = gridspec.GridSpec(1,1,wspace=0.0) ## using gridspec by default\n",
    "ax=plt.subplot(gs[0],facecolor='w') ## create axes\n",
    "\n",
    "host_is_human=lambda k: k.traits['type']=='h' ## return true if branch is in humans\n",
    "host_colour=lambda k: 'steelblue' if host_is_human(k) else 'darkorange' ## colour blue if human and orange otherwise\n",
    "\n",
    "same_host=lambda k: 'type' in k.parent.traits and k.parent.traits['type']==k.traits['type'] ## branch is in same host as parent branch\n",
    "\n",
    "highlights=ll.getBranches(lambda w: 'type' in w.parent.traits and w.traits['type']!=w.parent.traits['type']) ## get branches where parental and descendant branches are in different hosts\n",
    "\n",
    "pad_nodes={} ## dict of branch: padding amount for branches chosen for highlighting\n",
    "for node in highlights: ## iterate over branches chosen for highlighting\n",
    "    if node.is_leaf() or len(node.leaves)<=18: ## if branch is a tip or a node with fewer than 18 descendants\n",
    "        pad_nodes[node]=0 ## don't pad\n",
    "    else:\n",
    "        pad_nodes[node]=10 ## otherwise pad by 10\n",
    "\n",
    "ll.drawTree(pad_nodes=pad_nodes) ## redraw tree with new padding\n",
    "\n",
    "host_is_human=lambda k: k.traits['type']=='h' ## return true if branch is in humans\n",
    "host_colour=lambda k: 'steelblue' if host_is_human(k) else 'darkorange' ## colour blue if human and orange otherwise\n",
    "\n",
    "ll.plotTree(ax,x_attr=lambda k: k.absoluteTime,colour=host_colour) ## draw tree, with absolute time and colour\n",
    "\n",
    "for k in ll.getExternal(): ## iterate over tips\n",
    "    ax.plot([k.absoluteTime,ll.mostRecent],[k.y,k.y],ls='-',lw=1,color='dimgrey') ## grey lines from every tip's date to the most recent date\n",
    "\n",
    "for k in highlights: ## iterate over highlights again\n",
    "    if pad_nodes[k]>0: ## if node was padded\n",
    "        xpad=0.1 ## space left along x axis\n",
    "        ypad=1.2 ## space left along y axis\n",
    "        height=max(k.yRange)-min(k.yRange)+ypad*2 if k.is_node() else ypad*2 ## box height is the extremes of y coordinates of node's descendants\n",
    "\n",
    "        left=k.absoluteTime-xpad ## left side of box is node's date minus padding\n",
    "\n",
    "        lower=min(k.yRange)-ypad if k.is_node() else k.y-ypad ## lower side of box is lowest coordinate minus padding\n",
    "\n",
    "        width=k.childHeight-k.height+xpad*2 if k.is_node() else xpad*2 ## box width is difference between node height and last descendant\n",
    "\n",
    "        rect=Rectangle((left,lower),width,height,facecolor='none',edgecolor='indianred',lw=2,ls='-',zorder=100) ## create rectangle\n",
    "        ax.add_patch(rect) ## add rectangle to plot\n",
    "\n",
    "ax.set_yticks([]) ## no y ticks\n",
    "ax.set_yticklabels([])\n",
    "[ax.spines[loc].set_visible(False) for loc in ax.spines if loc not in ['bottom']] ## no spines\n",
    "\n",
    "ax.set_ylim(-1,ll.ySpan+1)\n",
    "plt.show()"
   ]
  }
 ],
 "metadata": {
  "kernelspec": {
   "display_name": "Python 3",
   "language": "python",
   "name": "python3"
  },
  "language_info": {
   "codemirror_mode": {
    "name": "ipython",
    "version": 3
   },
   "file_extension": ".py",
   "mimetype": "text/x-python",
   "name": "python",
   "nbconvert_exporter": "python",
   "pygments_lexer": "ipython3",
   "version": "3.8.3"
  }
 },
 "nbformat": 4,
 "nbformat_minor": 4
}
